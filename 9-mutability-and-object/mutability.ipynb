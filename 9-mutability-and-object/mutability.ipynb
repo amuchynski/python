{
 "metadata": {
  "language_info": {
   "codemirror_mode": {
    "name": "ipython",
    "version": 3
   },
   "file_extension": ".py",
   "mimetype": "text/x-python",
   "name": "python",
   "nbconvert_exporter": "python",
   "pygments_lexer": "ipython3",
   "version": "3.8.5-final"
  },
  "orig_nbformat": 2,
  "kernelspec": {
   "name": "Python 3.8.5 64-bit",
   "display_name": "Python 3.8.5 64-bit",
   "metadata": {
    "interpreter": {
     "hash": "aee8b7b246df8f9039afb4144a1f6fd8d2ca17a180786b69acc140d282b71a49"
    }
   }
  }
 },
 "nbformat": 4,
 "nbformat_minor": 2,
 "cells": [
  {
   "source": [
    "# Mutability\n",
    "\n",
    "Python data can be one of two types: mutable data and immutable data. \n",
    "\n",
    "- Immutable data can not be changed. Everytime you want to change it, you get a new data. \n",
    "\n",
    "- Mutable data can be changed. Whenever you change a mutable data, all variables point to the data can see the change.\n",
    "\n",
    "## 1 Immutable Data Types\n",
    "\n",
    "The built-in data types `int`, `float`, `string` and `tuple` are immutable data types,i.e., you can not change the data once it is created.\n",
    "\n",
    "For example, all methods of a string that change the string will return a new string. The old string stays untouched.\n"
   ],
   "cell_type": "markdown",
   "metadata": {}
  },
  {
   "cell_type": "code",
   "execution_count": 3,
   "metadata": {},
   "outputs": [
    {
     "output_type": "stream",
     "name": "stdout",
     "text": [
      "Original name: Alice. Uppercase name: ALICE\nOriginal alias: Alice. Replaced name: Alida\n"
     ]
    }
   ],
   "source": [
    "original_name = 'Alice'\n",
    "original_alias = original_name\n",
    "\n",
    "uppercase_name = original_name.upper()\n",
    "replaced_name = original_name.replace('ce', 'da')\n",
    "\n",
    "print(f'Original name: {original_name}. Uppercase name: {uppercase_name}')\n",
    "print(f'Original alias: {original_alias}. Replaced name: {replaced_name}')"
   ]
  },
  {
   "source": [
    "In the above code, the original and its alias have the same oringal value. Both the `upper()` and `replace()` methods create a new string."
   ],
   "cell_type": "markdown",
   "metadata": {}
  },
  {
   "source": [
    "## 2 Mutable Data Types\n",
    "\n",
    "The built-in types such as `list`, `dictionary` and `set` are mutable types. They have methods that change the original data."
   ],
   "cell_type": "markdown",
   "metadata": {}
  },
  {
   "cell_type": "code",
   "execution_count": 6,
   "metadata": {},
   "outputs": [
    {
     "output_type": "stream",
     "name": "stdout",
     "text": [
      "Original names: ['David', 'Cindy', 'Bob', 'Alice']. Appended names: ['David', 'Cindy', 'Bob', 'Alice']\nOriginal alias: ['David', 'Cindy', 'Bob', 'Alice']. Reversed names: ['David', 'Cindy', 'Bob', 'Alice']\n"
     ]
    }
   ],
   "source": [
    "original_names = ['Alice', 'Bob', 'Cindy']\n",
    "original_alias = original_names\n",
    "\n",
    "original_names.append('David')\n",
    "appended_names = original_names\n",
    "\n",
    "original_names.reverse()\n",
    "reversed_names = original_names\n",
    "\n",
    "print(f'Original names: {original_names}. Appended names: {appended_names}')\n",
    "print(f'Original alias: {original_alias}. Reversed names: {reversed_names}')"
   ]
  },
  {
   "source": [
    "In the above code, once the list of original names changes, all the variables pointing to the data can see the changes."
   ],
   "cell_type": "markdown",
   "metadata": {}
  },
  {
   "source": [
    "## 3 Copy Data\n",
    "\n",
    "Sharing mutable data could be dangerous because you may accidently change the data that used by another variable. If you want to use and change data, it is a good idea to make a copy of the original data."
   ],
   "cell_type": "markdown",
   "metadata": {}
  },
  {
   "cell_type": "code",
   "execution_count": null,
   "metadata": {},
   "outputs": [],
   "source": [
    "l1 = [1, 2, 3]\n",
    "l2 = l1\n",
    "\n",
    "l3 = l1.copy()\n",
    "\n",
    "l1[1] = 20\n",
    "l3[3] = 30\n",
    "\n",
    "print(l1, l2, l3)"
   ]
  }
 ]
}