{
 "metadata": {
  "language_info": {
   "codemirror_mode": {
    "name": "ipython",
    "version": 3
   },
   "file_extension": ".py",
   "mimetype": "text/x-python",
   "name": "python",
   "nbconvert_exporter": "python",
   "pygments_lexer": "ipython3",
   "version": "3.8.5-final"
  },
  "orig_nbformat": 2,
  "kernelspec": {
   "name": "python38564bita6c660d366ad41288ccc0d1156e7cceb",
   "display_name": "Python 3.8.5 64-bit"
  }
 },
 "nbformat": 4,
 "nbformat_minor": 2,
 "cells": [
  {
   "cell_type": "markdown",
   "metadata": {},
   "source": [
    "# Hello World\n",
    "\n",
    "You say \"Hello World\" in Python with good styles. Then you learn basic concepts of string, docstrint, comment and whitespace.\n",
    "\n",
    "## Your First Program\n",
    "\n",
    "We follow the tradition from C programming language to say \"Hello World\" as the first program in learning a programming language. In Python, it is pretty simple:"
   ]
  },
  {
   "cell_type": "code",
   "execution_count": 1,
   "metadata": {
    "tags": []
   },
   "outputs": [
    {
     "output_type": "stream",
     "name": "stdout",
     "text": "Hello World!\n"
    }
   ],
   "source": [
    "print('Hello World!')"
   ]
  },
  {
   "cell_type": "markdown",
   "metadata": {},
   "source": [
    "The single line of code has a lot of constructs/concepts in it:\n",
    "\n",
    "- `print` is the name of a built-in function that displays (prints) something to your computer console. \n",
    "  - A function, as defined in math, consumes inputs and produces outputs. Inputs are values passed into the function to be processed. Those inputs values are called arguments.\n",
    "  - A `console` is your terminal (Mac OS or Linux) or commmand line (Windows) screen.\n",
    "- `()` is a pair of parentheses that separates a function name from its inputs. The inputs of the function are put inside a pair of parenthese.\n",
    "- `'Hello World!'` is the input. An input value of a function is called an argument. \n",
    "  - `'Hello World!'` is the only argument here. \n",
    "  - It is a string that has a sequence of characters quoted in a pair of single quotation marks. \n",
    "- Together, `print('Hello World!')` is a function application or function execution. It is interpreted by Python to display the \"Hello World!\" to the console."
   ]
  },
  {
   "cell_type": "markdown",
   "metadata": {},
   "source": [
    "## The Zen of Python\n",
    "\n",
    "According to [Zen of Python in Wikipedia](https://en.wikipedia.org/wiki/Zen_of_Python)\n",
    "> The Zen of Python is a collection of 19 \"guiding principles\" for writing computer programs that influence the design of the Python programming language\n",
    "\n",
    "You can open \"Easter Egg\" in Python with code:\n",
    "\n",
    "\n"
   ]
  },
  {
   "cell_type": "code",
   "execution_count": 2,
   "metadata": {
    "tags": []
   },
   "outputs": [
    {
     "output_type": "stream",
     "name": "stdout",
     "text": "The Zen of Python, by Tim Peters\n\nBeautiful is better than ugly.\nExplicit is better than implicit.\nSimple is better than complex.\nComplex is better than complicated.\nFlat is better than nested.\nSparse is better than dense.\nReadability counts.\nSpecial cases aren't special enough to break the rules.\nAlthough practicality beats purity.\nErrors should never pass silently.\nUnless explicitly silenced.\nIn the face of ambiguity, refuse the temptation to guess.\nThere should be one-- and preferably only one --obvious way to do it.\nAlthough that way may not be obvious at first unless you're Dutch.\nNow is better than never.\nAlthough never is often better than *right* now.\nIf the implementation is hard to explain, it's a bad idea.\nIf the implementation is easy to explain, it may be a good idea.\nNamespaces are one honking great idea -- let's do more of those!\n"
    }
   ],
   "source": [
    "import this"
   ]
  },
  {
   "cell_type": "markdown",
   "metadata": {},
   "source": [
    "These are the coding principle you should follow in your programs too. You may want to [sing along](https://youtu.be/i6G6dmVJy74?t=33) when you write Python progrom. "
   ]
  },
  {
   "cell_type": "markdown",
   "metadata": {},
   "source": [
    "## Style Guide\n",
    "\n",
    "The principle are abstract. Python has an official document describing coding conventions. It is called [PEP 8 -- Style Guide for Python Code](https://www.python.org/dev/peps/pep-0008/). PEP stands for \"Python Enhancemment Proposal\". PEPs are suggested standard from Python community. PEP 8 has rules such abstract\n",
    "\n",
    "- Limit all lines to a maximum of 79 characters.\n",
    "- Indentation: Use 4 spaces per indentation level.\n",
    "- Variable and constant naming.\n",
    "\n",
    "The good news is that VS code Python extension has a tool that check the code for you. The tool is often called a lint or linter.\n",
    "\n"
   ]
  },
  {
   "cell_type": "markdown",
   "metadata": {},
   "source": [
    "## String Literal\n",
    "\n",
    "A string is a sequence of characters. A string appears in actual code is called a **String Literal**. A string literal is a sequnce of characters quoted in a pair of quotation marks. The quotation mark can be one of the three marks:\n",
    "\n",
    "- single quotation marks: `'Hello Wordl!'` \n",
    "- double quotation marks: `\"Hello World!\"`\n",
    "- triple quotation marks: `\"\"\"Hello World!\"\"\"` \n",
    "\n",
    "Python style guide recommends single quotation and double quotation equally for string literals. Triple quotation is used when there are a lot of single or double quotation marks in a string. I like the single quoatation mark because it has less typing. All three format represent the same literal string as shown below:"
   ]
  },
  {
   "cell_type": "markdown",
   "metadata": {},
   "source": [
    "## Docstring\n",
    "\n",
    "Python uses a string enclosd by a pair of tripple quotation marks for inline code documentation -- such a string is called a **docstring**. You should write doctsring at the top of a code file or when you define a function. Python interpreter ingores docstrings."
   ]
  },
  {
   "cell_type": "code",
   "execution_count": 3,
   "metadata": {
    "tags": []
   },
   "outputs": [
    {
     "output_type": "stream",
     "name": "stdout",
     "text": "He said: \"Hello Wordl!\"\nShe said: 'Hello World!'\nHe said: \"Hello Wordl!\" and She said: 'Hello World!'\n"
    }
   ],
   "source": [
    "\"\"\"This docstring at the top of a file describes the purpose of the file\"\"\"\n",
    "\n",
    "print('He said: \"Hello Wordl!\"')\n",
    "print(\"She said: 'Hello World!'\")\n",
    "print(\"\"\"He said: \"Hello Wordl!\" and She said: 'Hello World!'\"\"\")"
   ]
  },
  {
   "cell_type": "markdown",
   "metadata": {},
   "source": [
    "## Code Comments\n",
    "\n",
    "It is a best practice to write comments about code that is not obvious. Good comments are for human being and they are part of the source code that help code maitenance in the long run. Python intepreter ignores comments. \n",
    "\n",
    "You begin a comment with the `#` character. It can be in a seperate line or at the end of a line of code. The following shows a docstring, a comment line and an end-line comment."
   ]
  },
  {
   "cell_type": "code",
   "execution_count": 4,
   "metadata": {
    "tags": []
   },
   "outputs": [
    {
     "output_type": "stream",
     "name": "stdout",
     "text": "Hi\nHi\n"
    }
   ],
   "source": [
    "\"\"\"Demo a comment line and an end-line comment\"\"\"\n",
    "\n",
    "# demo the print function\n",
    "print('Hi')\n",
    "\n",
    "print(\"\"\"Hi\"\"\") # It is a string literal, not a docstring."
   ]
  },
  {
   "cell_type": "markdown",
   "metadata": {},
   "source": [
    "## Whitespaces\n",
    "\n",
    "There are blank lines and space characters in the above code. Together they are called whitespaces. A whitespace character is usually invisible but occupies an area in a file. You should use blank lines and spaces to have a better code layout.\n",
    "\n",
    "- Use a blank line to seperate different sections of code\n",
    "- Use a space to separate different constructs. For example, separate code from its end-line comments."
   ]
  }
 ]
}