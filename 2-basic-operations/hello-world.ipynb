{
 "metadata": {
  "language_info": {
   "codemirror_mode": {
    "name": "ipython",
    "version": 3
   },
   "file_extension": ".py",
   "mimetype": "text/x-python",
   "name": "python",
   "nbconvert_exporter": "python",
   "pygments_lexer": "ipython3",
   "version": "3.8.5-final"
  },
  "orig_nbformat": 2,
  "kernelspec": {
   "name": "python38564bita6c660d366ad41288ccc0d1156e7cceb",
   "display_name": "Python 3.8.5 64-bit"
  }
 },
 "nbformat": 4,
 "nbformat_minor": 2,
 "cells": [
  {
   "cell_type": "markdown",
   "metadata": {},
   "source": [
    "# Hello World\n",
    "\n",
    "You say \"Hello World\" in Python with good styles. Then you learn basic concepts of string, variable and naming styles.\n",
    "\n",
    "## Your First Program\n",
    "\n",
    "We follow the tradition from C programming language to say \"Hello World\" as the first program in learning a programming language. In Python, it is pretty simple:"
   ]
  },
  {
   "cell_type": "code",
   "execution_count": null,
   "metadata": {
    "tags": []
   },
   "outputs": [],
   "source": [
    "print('Hello World!')"
   ]
  },
  {
   "cell_type": "markdown",
   "metadata": {},
   "source": [
    "The single line of code has a lot of constructs/concepts in it:\n",
    "\n",
    "- `print` is the name of a built-in function that displays (prints) something to your computer console. \n",
    "  - A function, as defined in math, consumes inputs and produces outputs. Inputs are values passed into the function to be processed. Those inputs values are called arguments.\n",
    "  - A `console` is your terminal (Mac OS or Linux) or commmand line (Windows) screen.\n",
    "- `()` is a pair of parentheses that separates a function name from its inputs. The inputs of the function are put inside a pair of parenthese.\n",
    "- `'Hello World!'` is the input. An input value of a function is called an argument. \n",
    "  - `'Hello World!'` is the only argument here. \n",
    "  - It is a string that has a sequence of characters quoted in a pair of single quotation marks. \n",
    "  - Actually you can use double quotation marks and triple quotation marks to quote a string. `\"Hello World!\"` and `\"\"\"Hello World!\"\"\"` are the same as `'Hello World!'`. You will see the usages of the three syntax formats in the future.\n",
    "- Together, `print('Hello World!')` is a function application or function execution. It is interpreted by Python to display the \"Hello World!\" to the console."
   ]
  },
  {
   "cell_type": "markdown",
   "metadata": {},
   "source": [
    "## The Zen of Python\n",
    "\n",
    "According to [Zen of Python in Wikipedia](https://en.wikipedia.org/wiki/Zen_of_Python)\n",
    "> The Zen of Python is a collection of 19 \"guiding principles\" for writing computer programs that influence the design of the Python programming language\n",
    "\n",
    "You can open \"Easter Egg\" in Python with code:\n",
    "\n",
    "\n"
   ]
  },
  {
   "cell_type": "code",
   "execution_count": null,
   "metadata": {
    "tags": []
   },
   "outputs": [],
   "source": [
    "import this"
   ]
  },
  {
   "cell_type": "markdown",
   "metadata": {},
   "source": [
    "These are the coding principle you should follow in your programs too. You may want to [sing along](https://youtu.be/i6G6dmVJy74?t=33) when you write Python progrom. "
   ]
  },
  {
   "cell_type": "markdown",
   "metadata": {},
   "source": [
    "## Style Guide\n",
    "\n",
    "The principle are abstract. Python has an official document describing coding conventions. It is called [PEP 8 -- Style Guide for Python Code](https://www.python.org/dev/peps/pep-0008/). PEP stands for \"Python Enhancemment Proposal\". PEPs are suggested standard from Python community. PEP 8 has rules such abstract\n",
    "\n",
    "- Limit all lines to a maximum of 79 characters.\n",
    "- Indentation: Use 4 spaces per indentation level.\n",
    "- Variable and constant naming.\n",
    "\n",
    "The good news is that VS code Python extension has a linter tool that check the code for you.\n",
    "\n"
   ]
  }
 ]
}