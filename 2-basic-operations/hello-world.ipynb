{
 "metadata": {
  "language_info": {
   "codemirror_mode": {
    "name": "ipython",
    "version": 3
   },
   "file_extension": ".py",
   "mimetype": "text/x-python",
   "name": "python",
   "nbconvert_exporter": "python",
   "pygments_lexer": "ipython3",
   "version": "3.8.5-final"
  },
  "orig_nbformat": 2,
  "kernelspec": {
   "name": "python38564bita6c660d366ad41288ccc0d1156e7cceb",
   "display_name": "Python 3.8.5 64-bit"
  }
 },
 "nbformat": 4,
 "nbformat_minor": 2,
 "cells": [
  {
   "cell_type": "markdown",
   "metadata": {},
   "source": [
    "# Hello World\n",
    "\n",
    "It is a tradition from C programming language to say \"Hello World\" as the first program when you learn a new programming langauge. In Python, it is pretty simple:"
   ]
  },
  {
   "cell_type": "code",
   "execution_count": 1,
   "metadata": {
    "tags": []
   },
   "outputs": [
    {
     "output_type": "stream",
     "name": "stdout",
     "text": "Hello World!\n"
    }
   ],
   "source": [
    "print('Hello World!')"
   ]
  },
  {
   "cell_type": "markdown",
   "metadata": {},
   "source": [
    "- `print` is a built-in function that displays (prints) things to a console. A function, as defined in math, consumes inputs and produces outputs. Inputs are values passed into the function to be processed. Those inputs values are called arguments.\n",
    "- A `console` is your terminal (Mac OS or Linux) or commmand line (Windows) screen.\n",
    "- `()` is a pair of parentheses that separates a function name from its inputs. The inputs of the function are put inside a pair of parenthese.\n",
    "- `'Hello World!'` is the input. It is the only argument here. It is a string that has a sequence of characters quoted in a pair of single quotation marks. Actually you can use double quotation marks and triple quotation marks to quote a string. `\"Hello World!\"` and `\"\"\"Hello World!\"\"\"` are the same as `'Hello World!'`. You will see the usages of the three syntax formats in the future.\n",
    "- Together, `print('Hello World!')` is call a function application or function execution. It is interpreted by Python to display the \"Hello World!\" to the console."
   ]
  }
 ]
}