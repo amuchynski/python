{
 "metadata": {
  "language_info": {
   "codemirror_mode": {
    "name": "ipython",
    "version": 3
   },
   "file_extension": ".py",
   "mimetype": "text/x-python",
   "name": "python",
   "nbconvert_exporter": "python",
   "pygments_lexer": "ipython3",
   "version": "3.8.5-final"
  },
  "orig_nbformat": 2,
  "kernelspec": {
   "name": "python38564bita6c660d366ad41288ccc0d1156e7cceb",
   "display_name": "Python 3.8.5 64-bit"
  }
 },
 "nbformat": 4,
 "nbformat_minor": 2,
 "cells": [
  {
   "cell_type": "markdown",
   "metadata": {},
   "source": [
    "# Types and Operations\n",
    "\n",
    "This note introduces the data types and operations for numbers and strings.\n",
    "\n",
    "## Data Types \n",
    "\n",
    "It is obvious that `'hello'` and  `42` represent different things. In Python, every piece of data has a type. You can use the `type` function to find out a data type:\n"
   ]
  },
  {
   "cell_type": "code",
   "execution_count": null,
   "metadata": {
    "tags": []
   },
   "outputs": [],
   "source": [
    "type('hello')"
   ]
  },
  {
   "cell_type": "code",
   "execution_count": null,
   "metadata": {
    "tags": []
   },
   "outputs": [],
   "source": [
    "type(42)"
   ]
  },
  {
   "cell_type": "markdown",
   "metadata": {},
   "source": [
    "The type of `'hello'` is a `str` and the type of `42` is an `int`. Actually `'42'` and `42` have different types because the first is a `str` and the second is an `int`.\n",
    "\n",
    "Programming languages use type to reprsent a collection of data that have a certain set of operations. For example, you can concatenant two strings or get a substring of a string. For nubmers, you can perform arithematic operations such as `+`, `-`, `*` and `/` etc.\n",
    "\n",
    "`str` and `int` are two built-in data types. In real-world applications, thera are more built-in types and custom types such as file, image, movie, song. Each type supports different operations. You can write to a file and play a movie.\n",
    "\n",
    "A variable has a type that is the type of its value."
   ]
  },
  {
   "cell_type": "code",
   "execution_count": null,
   "metadata": {
    "tags": []
   },
   "outputs": [],
   "source": [
    "x = 3\n",
    "type(x)"
   ]
  },
  {
   "cell_type": "code",
   "execution_count": null,
   "metadata": {},
   "outputs": [],
   "source": [
    "greeting = 'hi'\n",
    "type(greeting)"
   ]
  },
  {
   "cell_type": "markdown",
   "metadata": {},
   "source": [
    "## Arithematic Operations and Operator Precedence\n",
    "\n",
    "`int` is one of the three built-in numberic types. The other two types are `float` and `complex`. `int` and `float` are commonly used in business applications and `complex` is mostly used in data science.\n",
    "\n",
    "There are many arithematic operators for `int` and `float` types. The arithematic operators such as `+` and `-` are actually a special form of functions/operations that use an infix syntax: the operator is placed between two pieces of data called **operands**. The syntax is similar to regular mathematic formulas. \n",
    "\n",
    "As in math, you can use multiple operators in an expression. For example:"
   ]
  },
  {
   "cell_type": "code",
   "execution_count": null,
   "metadata": {},
   "outputs": [],
   "source": [
    "3 + 5 * 7"
   ]
  },
  {
   "cell_type": "markdown",
   "metadata": {},
   "source": [
    "When you run the above expression, the result is `38`. The reason is that when there are multiple operators, Python will use the **operator precedence** to determine the sequence of calculation. Because `*` multiplication operator has higher precedence than the `+` plus operator. To calculate the plus operation first, you should use a pair of parethese to **group** the operation."
   ]
  },
  {
   "cell_type": "code",
   "execution_count": null,
   "metadata": {},
   "outputs": [],
   "source": [
    "(3 + 5) * 7"
   ]
  },
  {
   "cell_type": "markdown",
   "metadata": {},
   "source": [
    "Python first calculates the operation inside parathese and produces a result of `56`. Below is a list for some common operator, sorted from higher precedence to lower precedence.\n",
    "\n",
    "- operations in parentheses `()`\n",
    "- Exponential operator `**`\n",
    "- Multiplication, devision and remainder: `*`, `/`, `//`, `%`\n",
    "- Addition and subtraction: `+`, `-`.\n",
    "\n",
    "There are two division opertors: \n",
    "\n",
    "- `/` is **floating-point divsion**, also called **true division**. The result of two integers could be a float number.\n",
    "- `//` is **integer division**, also called **floor division**. The result of two integers is always an integer that is smaller or equal to the division result."
   ]
  },
  {
   "cell_type": "code",
   "execution_count": null,
   "metadata": {
    "tags": []
   },
   "outputs": [],
   "source": [
    "# float-point division or true division\n",
    "print(4 / 2)\n",
    "print(5 / 2) \n",
    "\n",
    "# integer division or floor division\n",
    "print(4 // 2)\n",
    "print(5 // 2) "
   ]
  },
  {
   "cell_type": "markdown",
   "metadata": {},
   "source": [
    "## String Operations\n",
    "\n",
    "You can print one or more strings. You can also concatenate multiple strings using the `+` operator. You will see more string operations later."
   ]
  },
  {
   "cell_type": "code",
   "execution_count": null,
   "metadata": {
    "tags": []
   },
   "outputs": [],
   "source": [
    "print('Hello', 'World')\n",
    "\n",
    "# concatenate three strings\n",
    "greeting = 'Hello' + ' ' + 'World' \n",
    "print(greeting)"
   ]
  },
  {
   "cell_type": "markdown",
   "metadata": {},
   "source": [
    "There are some characters that have special meanings in a string. These characters are called **escape characters**. Each escape character is preceded with a backslash `\\`. Following are some samples:\n",
    "\n",
    "- `\\n`: a new line character that causes the output to move to the next line.\n",
    "- `\\t`: a tab character that causes the output to move to the next horizontal tab position.\n",
    "- `\\'`: a single quote mark charcter.\n",
    "- `\\\"`: a double quote mark character.\n",
    "- `\\\\`: a backslash character.\n",
    "\n",
    "You can test them with code:"
   ]
  },
  {
   "cell_type": "code",
   "execution_count": null,
   "metadata": {
    "tags": []
   },
   "outputs": [],
   "source": [
    "print('One\\nTwo\\nThree')\n",
    "print('One\\tTwo\\tThree')\n",
    "print('One\\'s money')"
   ]
  },
  {
   "cell_type": "markdown",
   "metadata": {},
   "source": [
    "It is interesting to compare the following two experssions:"
   ]
  },
  {
   "cell_type": "code",
   "execution_count": null,
   "metadata": {
    "tags": []
   },
   "outputs": [],
   "source": [
    "print(10 + 24)\n",
    "print('10' + '24')"
   ]
  },
  {
   "cell_type": "markdown",
   "metadata": {},
   "source": [
    "The first expression add integers of `10` and `24`. The second expression concatenates string `'10'` with string `'24'`."
   ]
  },
  {
   "cell_type": "markdown",
   "metadata": {},
   "source": [
    "## Mixed Type Operations\n",
    "\n",
    "You can print multiple string arugments or mixed strings and numbers. "
   ]
  },
  {
   "cell_type": "code",
   "execution_count": null,
   "metadata": {
    "tags": []
   },
   "outputs": [],
   "source": [
    "print('hi', 'there', 'how are you')\n",
    "print('hello', 3)"
   ]
  },
  {
   "cell_type": "code",
   "execution_count": null,
   "metadata": {},
   "outputs": [],
   "source": []
  }
 ]
}