{
 "metadata": {
  "language_info": {
   "codemirror_mode": {
    "name": "ipython",
    "version": 3
   },
   "file_extension": ".py",
   "mimetype": "text/x-python",
   "name": "python",
   "nbconvert_exporter": "python",
   "pygments_lexer": "ipython3",
   "version": "3.9.1-final"
  },
  "orig_nbformat": 2,
  "kernelspec": {
   "name": "python38564bita6c660d366ad41288ccc0d1156e7cceb",
   "display_name": "Python 3.8.5 64-bit",
   "language": "python"
  }
 },
 "nbformat": 4,
 "nbformat_minor": 2,
 "cells": [
  {
   "cell_type": "markdown",
   "metadata": {},
   "source": [
    "# Types and Operations\n",
    "\n",
    "This note introduces the data types and operations for numbers and strings.\n",
    "\n",
    "## Data Types \n",
    "\n",
    "It is obvious that `'hello'` and  `42` represent different things. In Python, every piece of data has a type. You can use the `type` function to find out a data type:\n"
   ]
  },
  {
   "cell_type": "code",
   "execution_count": 1,
   "metadata": {
    "tags": []
   },
   "outputs": [
    {
     "output_type": "execute_result",
     "data": {
      "text/plain": [
       "str"
      ]
     },
     "metadata": {},
     "execution_count": 1
    }
   ],
   "source": [
    "type('hello')"
   ]
  },
  {
   "cell_type": "code",
   "execution_count": 2,
   "metadata": {
    "tags": []
   },
   "outputs": [
    {
     "output_type": "execute_result",
     "data": {
      "text/plain": [
       "int"
      ]
     },
     "metadata": {},
     "execution_count": 2
    }
   ],
   "source": [
    "type(42)"
   ]
  },
  {
   "cell_type": "markdown",
   "metadata": {},
   "source": [
    "The type of `'hello'` is a `str` and the type of `42` is an `int`. Actually `'42'` and `42` have different types because the first is a `str` and the second is an `int`.\n",
    "\n",
    "Programming languages use type to reprsent a collection of data that have a certain set of operations. For example, you can concatenant two strings or get a substring of a string. For nubmers, you can perform arithematic operations such as `+`, `-`, `*` and `/` etc.\n",
    "\n",
    "`str` and `int` are two built-in data types. In real-world applications, thera are more built-in types and custom types such as float, file, image, movie, song and etc. Each type supports different operations. You can write to a file and play a movie.\n",
    "\n",
    "A variable has a type that is the type of its value."
   ]
  },
  {
   "cell_type": "code",
   "execution_count": 3,
   "metadata": {
    "tags": []
   },
   "outputs": [
    {
     "output_type": "execute_result",
     "data": {
      "text/plain": [
       "float"
      ]
     },
     "metadata": {},
     "execution_count": 3
    }
   ],
   "source": [
    "x = 3.5\n",
    "type(x)"
   ]
  },
  {
   "cell_type": "code",
   "execution_count": 4,
   "metadata": {},
   "outputs": [
    {
     "output_type": "execute_result",
     "data": {
      "text/plain": [
       "str"
      ]
     },
     "metadata": {},
     "execution_count": 4
    }
   ],
   "source": [
    "greeting = 'hi'\n",
    "type(greeting)"
   ]
  },
  {
   "cell_type": "markdown",
   "metadata": {},
   "source": [
    "When you print a variabvle, don't enclose it in quote marks. In the following, `greeting` is a variable name. `'greeting'` is a string literal because it is enclosed by single quote marks."
   ]
  },
  {
   "cell_type": "code",
   "execution_count": 5,
   "metadata": {
    "tags": []
   },
   "outputs": [
    {
     "output_type": "stream",
     "name": "stdout",
     "text": [
      "greeting\nhi\n"
     ]
    }
   ],
   "source": [
    "greeting = 'hi'\n",
    "print('greeting')  # output 'greeting'\n",
    "print(greeting) # output 'hi'"
   ]
  },
  {
   "cell_type": "markdown",
   "metadata": {},
   "source": [
    "## Dynamic Typing\n",
    "\n",
    "Python is a **dynamic typing** programming language. The term **dynamic** means that a vriable can be bound to different types of data at different time. In contrast, in static typing programming languages such as Java or C#, a variable can be cound only to one type -- one it is bound, it can only be bound to data of the same type.\n",
    "\n",
    "In the following example, the variable `strange` first binds to a string, then to an integer.\n"
   ]
  },
  {
   "cell_type": "code",
   "execution_count": 6,
   "metadata": {},
   "outputs": [],
   "source": [
    "strange = 'Hello'\n",
    "strange = 42"
   ]
  },
  {
   "cell_type": "markdown",
   "metadata": {},
   "source": [
    "Though it is possible to reassign a value of a different tyep to a variable, it is not recommended because it is hard to reason and understand the code."
   ]
  },
  {
   "cell_type": "markdown",
   "metadata": {},
   "source": [
    "## Arithematic Operations and Operator Precedence\n",
    "\n",
    "`int` is one of the three built-in numberic types. The other two types are `float` and `complex`. `int` and `float` are commonly used in business applications and `complex` is mostly used in data science.\n",
    "\n",
    "There are many arithematic operators for `int` and `float` types. The arithematic operators such as `+` and `-` are actually a special form of functions/operations that use an infix syntax: the operator is placed between two pieces of data called **operands**. The syntax is similar to regular mathematic formulas. \n",
    "\n",
    "As in math, you can use multiple operators in an expression. For example:"
   ]
  },
  {
   "cell_type": "code",
   "execution_count": 7,
   "metadata": {},
   "outputs": [
    {
     "output_type": "execute_result",
     "data": {
      "text/plain": [
       "38"
      ]
     },
     "metadata": {},
     "execution_count": 7
    }
   ],
   "source": [
    "3 + 5 * 7"
   ]
  },
  {
   "cell_type": "markdown",
   "metadata": {},
   "source": [
    "When you run the above expression, the result is `38`. The reason is that when there are multiple operators, Python will use the location and **operator precedence** to determine the sequence of calculation. It perform computation from left to right unless there is an opertor hagving a high precedence. In the above example, because `*` multiplication operator has higher precedence than the `+` plus operator, it compute the multiplication first. To calculate the plus operation first, you should use a pair of parethese to **group** the operation."
   ]
  },
  {
   "cell_type": "code",
   "execution_count": 8,
   "metadata": {},
   "outputs": [
    {
     "output_type": "execute_result",
     "data": {
      "text/plain": [
       "56"
      ]
     },
     "metadata": {},
     "execution_count": 8
    }
   ],
   "source": [
    "(3 + 5) * 7"
   ]
  },
  {
   "cell_type": "markdown",
   "metadata": {},
   "source": [
    "In this example, parentheses has a higher precedence than the mulitplication. Python first calculates the operation inside parathese and produces a result of `56`. Below is a list for some common operator, sorted from higher precedence to lower precedence.\n",
    "\n",
    "- operations in parentheses `()`\n",
    "- Exponential operator `**`\n",
    "- Multiplication, devision and remainder: `*`, `/`, `//`, `%`\n",
    "- Addition and subtraction: `+`, `-`.\n",
    "\n",
    "There are two division opertors: \n",
    "\n",
    "- `/` is **floating-point divsion**, also called **true division**. The result of two integers could be a float number.\n",
    "- `//` is **integer division**, also called **floor division**. The result of two integers is always an integer that is smaller or equal to the division result."
   ]
  },
  {
   "cell_type": "code",
   "execution_count": 9,
   "metadata": {
    "tags": []
   },
   "outputs": [
    {
     "output_type": "stream",
     "name": "stdout",
     "text": [
      "2.0\n2.5\n1.6666666666666667\n2\n2\n1\n"
     ]
    }
   ],
   "source": [
    "# float-point division or true division\n",
    "print(4 / 2)\n",
    "print(5 / 2) \n",
    "print(5 / 3)\n",
    "\n",
    "# integer division or floor division\n",
    "print(4 // 2)\n",
    "print(5 // 2) \n",
    "print (5 // 3)"
   ]
  },
  {
   "cell_type": "markdown",
   "metadata": {},
   "source": [
    "## Mixed Integer and Float\n",
    "\n",
    "If you mix integers and floats in an experssion, the result has a float type even the result is an integer. For example sum has a value of `51` and a type of `float`."
   ]
  },
  {
   "cell_type": "code",
   "execution_count": 10,
   "metadata": {
    "tags": []
   },
   "outputs": [
    {
     "output_type": "execute_result",
     "data": {
      "text/plain": [
       "float"
      ]
     },
     "metadata": {},
     "execution_count": 10
    }
   ],
   "source": [
    "sum = 10 * 5.1\n",
    "type(sum)"
   ]
  },
  {
   "cell_type": "markdown",
   "metadata": {},
   "source": [
    "## String Operations\n",
    "\n",
    "You can print one or more strings. You can also concatenate multiple strings using the `+` operator. You will see more string operations later."
   ]
  },
  {
   "cell_type": "code",
   "execution_count": 11,
   "metadata": {
    "tags": []
   },
   "outputs": [
    {
     "output_type": "stream",
     "name": "stdout",
     "text": [
      "Hello World\nHello World\n"
     ]
    }
   ],
   "source": [
    "print('Hello', 'World')\n",
    "\n",
    "# concatenate three strings\n",
    "greeting = 'Hello' + ' ' + 'World' \n",
    "print(greeting)"
   ]
  },
  {
   "cell_type": "markdown",
   "metadata": {},
   "source": [
    "You can multiply a string with an integer to repeat the string several times."
   ]
  },
  {
   "cell_type": "code",
   "execution_count": 12,
   "metadata": {
    "tags": []
   },
   "outputs": [
    {
     "output_type": "stream",
     "name": "stdout",
     "text": [
      "abcabcabc\n"
     ]
    }
   ],
   "source": [
    "repeated = 'abc' * 3\n",
    "print(repeated)"
   ]
  },
  {
   "cell_type": "markdown",
   "metadata": {},
   "source": [
    "Though `+` and `*` are used in both numeric and string data, they have different meanings in different types. The `-`, `/`, '//' and `**` operators don't support `str` values as its operand. The following code produces a `TypeError`. "
   ]
  },
  {
   "cell_type": "code",
   "execution_count": 13,
   "metadata": {},
   "outputs": [
    {
     "output_type": "error",
     "ename": "TypeError",
     "evalue": "unsupported operand type(s) for -: 'str' and 'str'",
     "traceback": [
      "\u001b[0;31m---------------------------------------------------------------------------\u001b[0m",
      "\u001b[0;31mTypeError\u001b[0m                                 Traceback (most recent call last)",
      "\u001b[0;32m<ipython-input-13-14bc680e620c>\u001b[0m in \u001b[0;36m<module>\u001b[0;34m\u001b[0m\n\u001b[0;32m----> 1\u001b[0;31m \u001b[0;34m'a'\u001b[0m \u001b[0;34m-\u001b[0m \u001b[0;34m'b'\u001b[0m\u001b[0;34m\u001b[0m\u001b[0;34m\u001b[0m\u001b[0m\n\u001b[0m",
      "\u001b[0;31mTypeError\u001b[0m: unsupported operand type(s) for -: 'str' and 'str'"
     ]
    }
   ],
   "source": [
    "'a' - 'b'"
   ]
  },
  {
   "cell_type": "markdown",
   "metadata": {},
   "source": [
    "There are some characters that have special meanings in a string. These characters are called **escape characters**. Each escape character is preceded with a backslash `\\`. Following are some samples:\n",
    "\n",
    "- `\\n`: a new line character that causes the output to move to the next line.\n",
    "- `\\t`: a tab character that causes the output to move to the next horizontal tab position.\n",
    "- `\\'`: a single quote mark charcter.\n",
    "- `\\\"`: a double quote mark character.\n",
    "- `\\\\`: a backslash character.\n",
    "\n",
    "You can test them with code:"
   ]
  },
  {
   "cell_type": "code",
   "execution_count": null,
   "metadata": {
    "tags": []
   },
   "outputs": [],
   "source": [
    "print('One\\nTwo\\nThree')\n",
    "print('One\\tTwo\\tThree')\n",
    "print('One\\'s money')"
   ]
  },
  {
   "cell_type": "markdown",
   "metadata": {},
   "source": [
    "It is interesting to compare the following two experssions:"
   ]
  },
  {
   "cell_type": "code",
   "execution_count": null,
   "metadata": {
    "tags": []
   },
   "outputs": [],
   "source": [
    "print(10 + 24)\n",
    "print('10' + '24')"
   ]
  },
  {
   "cell_type": "markdown",
   "metadata": {},
   "source": [
    "The first expression add integers of `10` and `24`. The second expression concatenates string `'10'` with string `'24'`.\n",
    "\n",
    "`print` can take multiple arguments in different types and display the results separated by a space.\n"
   ]
  },
  {
   "cell_type": "code",
   "execution_count": null,
   "metadata": {
    "tags": []
   },
   "outputs": [],
   "source": [
    "print('Sum is', 3 + 7)"
   ]
  }
 ]
}