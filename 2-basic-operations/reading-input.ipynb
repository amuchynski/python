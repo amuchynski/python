{
 "metadata": {
  "language_info": {
   "codemirror_mode": {
    "name": "ipython",
    "version": 3
   },
   "file_extension": ".py",
   "mimetype": "text/x-python",
   "name": "python",
   "nbconvert_exporter": "python",
   "pygments_lexer": "ipython3",
   "version": "3.8.5-final"
  },
  "orig_nbformat": 2,
  "kernelspec": {
   "name": "python38564bita6c660d366ad41288ccc0d1156e7cceb",
   "display_name": "Python 3.8.5 64-bit"
  }
 },
 "nbformat": 4,
 "nbformat_minor": 2,
 "cells": [
  {
   "cell_type": "markdown",
   "metadata": {},
   "source": [
    "# Reading Input\n",
    "\n",
    "This section describes the Python functions used to read input from a user and convert the input to an appropriate type.\n",
    "\n",
    "## Reading Input\n",
    "\n",
    "`input` is a built-in function that read input from the keyboard. The keyboard is the keys typed until the enter key. Because the input is stored in a memory, you need bind the input to a variable to use it. The syntax is below\n",
    "\n",
    "`variable = input(prompt)`\n",
    "\n",
    "The `input` is the name of the built-in function that reads the input. The `prmopt` is a string displayed to the console, working as a hint to the user what kind of input is expected. The `variable` is the name that binds to the input value. As always, you should use a meaningful name for the input.\n"
   ]
  },
  {
   "cell_type": "code",
   "execution_count": null,
   "metadata": {
    "tags": []
   },
   "outputs": [],
   "source": [
    "name = input('Please enter your name: ')\n",
    "print('Hello', name)"
   ]
  },
  {
   "cell_type": "markdown",
   "metadata": {},
   "source": [
    "In the above code, the `input` function first display the message to the user. Pay attention to the ending space in the message -- you should add it to separate the message from user input for a better user experience. It reads the user input, all keys pressed until the enter key. The value is assigned to the variable `name`."
   ]
  },
  {
   "cell_type": "markdown",
   "metadata": {},
   "source": [
    "## `input` Function Always Returns a String\n",
    "\n",
    "The `input` function always a string. It puts all input characters except the `Enter` key inside a string. Try to input `'abc'`, `\"abc\"` and `42` for the following code and check the variable type."
   ]
  },
  {
   "cell_type": "code",
   "execution_count": null,
   "metadata": {
    "tags": []
   },
   "outputs": [],
   "source": [
    "value = input(\"\"\"Please input 'abc' or \"abc\" or 42: \"\"\")\n",
    "print('Hello', value)\n",
    "type(value)"
   ]
  },
  {
   "cell_type": "markdown",
   "metadata": {},
   "source": [
    "In all three cases, the type is `str` and the value, including the quotation marks are part of the input string. How could you get a number input?"
   ]
  },
  {
   "cell_type": "markdown",
   "metadata": {},
   "source": [
    "## Conversion Functions\n",
    "\n",
    "Python has built-in conversion functions that convert a string to a different type. For example, `int` function converts a string to an integer, `float` converts a string to a float number. You can use them to convert the input string to a number."
   ]
  },
  {
   "cell_type": "code",
   "execution_count": null,
   "metadata": {
    "tags": []
   },
   "outputs": [],
   "source": [
    "age_input = input('Please enter your age: ')\n",
    "age = int(age_input)\n",
    "print('Your age next year is', age + 1)"
   ]
  },
  {
   "cell_type": "markdown",
   "metadata": {},
   "source": [
    "In Python, you can nest function calls if a function's output is another function's input. In the above function, the `input` function returns a string that is the required argument for the `int` function, you can nest the calls as the following:"
   ]
  },
  {
   "cell_type": "code",
   "execution_count": null,
   "metadata": {
    "tags": []
   },
   "outputs": [],
   "source": [
    "age = int(input('Please enter your age: '))\n",
    "print('Your age is', age)"
   ]
  },
  {
   "cell_type": "markdown",
   "metadata": {},
   "source": [
    "This nested version works the same as the un-unnested version. It doesn't required an additional variable for the input value. Nesting function calls make the code terse, but sometime not easy to read or debug. For example, if you type `abc` or `2.7` as the input, you will get a `ValueError`. In the nested version, it might not be clear which function causes the error. If you put each function call in a different line, it will be clear which one is wrong. Therefor use nested call when the function calls are simple and easy to understand.\n",
    "\n",
    "The `float` function converts a string to a float nubmer."
   ]
  },
  {
   "cell_type": "code",
   "execution_count": null,
   "metadata": {
    "tags": []
   },
   "outputs": [],
   "source": [
    "float_input = input('Please enter a number between 0 and 1: ')\n",
    "percentage_value = float(float_input) * 100\n",
    "print('The number in percentage is', percentage_value)"
   ]
  },
  {
   "cell_type": "markdown",
   "metadata": {},
   "source": [
    "The above called uses a nested call inside the `print` function."
   ]
  }
 ]
}