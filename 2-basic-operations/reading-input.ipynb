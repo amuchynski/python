{
 "metadata": {
  "language_info": {
   "codemirror_mode": {
    "name": "ipython",
    "version": 3
   },
   "file_extension": ".py",
   "mimetype": "text/x-python",
   "name": "python",
   "nbconvert_exporter": "python",
   "pygments_lexer": "ipython3",
   "version": "3.8.5-final"
  },
  "orig_nbformat": 2,
  "kernelspec": {
   "name": "python38564bita6c660d366ad41288ccc0d1156e7cceb",
   "display_name": "Python 3.8.5 64-bit"
  }
 },
 "nbformat": 4,
 "nbformat_minor": 2,
 "cells": [
  {
   "cell_type": "markdown",
   "metadata": {},
   "source": [
    "# Reading Input\n",
    "\n",
    "This section describe the Python functions used to read input from a user and convert the input to an appropriate type.\n",
    "\n",
    "## Reading Input\n",
    "\n",
    "`input` is a built-in function that read input from the keyboard. The keyboard is the keys typed until the enter key. Because the input is stored in a memory, you need bind the input to a variable to use it. The syntax is below\n",
    "\n",
    "`variable = input(prompt)`\n",
    "\n",
    "The `input` is the name of the built-in function that reads the input. The `prmopt` is a string displayed to the console, working as a hint to the user what kind of input is expected. The `variable` is the name that binds to the input value. As always, you should use a meaningful name for the input.\n"
   ]
  },
  {
   "cell_type": "code",
   "execution_count": null,
   "metadata": {
    "tags": []
   },
   "outputs": [],
   "source": [
    "name = input('Please enter your name: ')\n",
    "print('Hello', name)"
   ]
  },
  {
   "cell_type": "markdown",
   "metadata": {},
   "source": [
    "In the above code, the `input` function first display the message to the user. Pay attention to the ending space in the message -- you should add it to separate the message from user input for a better user experience. It reads the user input, all keys pressed until the enter key. The value is assigned to the variable `name`."
   ]
  },
  {
   "cell_type": "markdown",
   "metadata": {},
   "source": [
    "## `input` Function Always Returns a String\n",
    "\n",
    "The `input` function always a string. It puts all input characters except the `Enter` key inside a string. Try to input `'abc'`, `\"abc\"` and `42` for the following code and check the variable type."
   ]
  },
  {
   "cell_type": "code",
   "execution_count": 3,
   "metadata": {
    "tags": []
   },
   "outputs": [
    {
     "output_type": "stream",
     "name": "stdout",
     "text": "Hello \"ab'\n"
    },
    {
     "output_type": "execute_result",
     "data": {
      "text/plain": "str"
     },
     "metadata": {},
     "execution_count": 3
    }
   ],
   "source": [
    "value = input(\"\"\"Please input 'abc' or \"abc\" or 42: \"\"\")\n",
    "print('Hello', value)\n",
    "type(value)"
   ]
  },
  {
   "cell_type": "markdown",
   "metadata": {},
   "source": [
    "In all three cases, the type is `str` and the value, including the quotation marks are part of the input string. How could you get a number input?"
   ]
  },
  {
   "cell_type": "code",
   "execution_count": null,
   "metadata": {},
   "outputs": [],
   "source": []
  }
 ]
}