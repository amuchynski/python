{
 "metadata": {
  "language_info": {
   "codemirror_mode": {
    "name": "ipython",
    "version": 3
   },
   "file_extension": ".py",
   "mimetype": "text/x-python",
   "name": "python",
   "nbconvert_exporter": "python",
   "pygments_lexer": "ipython3",
   "version": "3.8.5-final"
  },
  "orig_nbformat": 2,
  "kernelspec": {
   "name": "python38564bita6c660d366ad41288ccc0d1156e7cceb",
   "display_name": "Python 3.8.5 64-bit"
  }
 },
 "nbformat": 4,
 "nbformat_minor": 2,
 "cells": [
  {
   "cell_type": "markdown",
   "metadata": {},
   "source": [
    "# Variable Assignment and Naming\n",
    "\n",
    "This section introduces the variable assignment and variable naming.\n",
    "\n",
    "## Why Variable?\n",
    "\n",
    "You can use string literals and number literals to run some tasks. Number literals are integers (such as `5`) or floats (such as `17.5`). For example:\n"
   ]
  },
  {
   "cell_type": "code",
   "execution_count": 1,
   "metadata": {
    "tags": []
   },
   "outputs": [
    {
     "output_type": "stream",
     "name": "stdout",
     "text": "Hi\n"
    }
   ],
   "source": [
    "print('Hi') "
   ]
  },
  {
   "cell_type": "code",
   "execution_count": 2,
   "metadata": {},
   "outputs": [
    {
     "output_type": "execute_result",
     "data": {
      "text/plain": "3.5"
     },
     "metadata": {},
     "execution_count": 2
    }
   ],
   "source": [
    "# put spaces before and after the / to make the computation more reable\n",
    "17.5 / 5 "
   ]
  },
  {
   "cell_type": "markdown",
   "metadata": {},
   "source": [
    "However, in many situations\n",
    "\n",
    "- you don't know the values when you write the program. You need to read the data from a file or from a user input. \n",
    "- When you defeine a function that consumes inputs and generates outputs, you need to refer to the input values and output values. \n",
    "- Even you have the values used in computation, you still should give it a meaningful name to make the code easier to understand. For example, it is unclear what's the meaning of `17.5` and `5`. \n",
    "\n",
    "You learned from middle school that algebra uses symbols to represent values and symbols are more powerful in solving problems than pure numbers. The variables in Python serves the same purpose."
   ]
  },
  {
   "cell_type": "markdown",
   "metadata": {},
   "source": [
    "## Variable and Assignment\n",
    "\n",
    "A variable is a name that represents a value stored in the compute memory (RAM). You use an assignment statement to bind a value to a name -- also called variable declaration or variable definition: \n",
    "\n",
    "`variable = expression` \n",
    "\n",
    "In this statement:\n",
    "\n",
    "- `variable` is the name of the variable. The name must be in the left hand side (LHS) of the statement.\n",
    "- `=` is the **assignment operator**. It binds/defines the LHS name to a value. There is a space before and after the operator for better code format.\n",
    "- `expression` is a value or an operation that produces a value. It is in the right hand side (RHS) of the statement.\n",
    "\n",
    "![variable](images/variable.png)\n",
    "\n",
    "Here are some variable declarations:\n",
    "\n"
   ]
  },
  {
   "cell_type": "code",
   "execution_count": 3,
   "metadata": {
    "tags": []
   },
   "outputs": [
    {
     "output_type": "stream",
     "name": "stdout",
     "text": "3.5\n"
    }
   ],
   "source": [
    "# declare variables using value literals\n",
    "name = 'Alice'\n",
    "answer = 42\n",
    "course_name = 'Business Application Develoment'\n",
    "\n",
    "total_score = 17.5\n",
    "number_of_courses = 5\n",
    "\n",
    "# declare a variable using an expression\n",
    "gpa = total_score / number_of_courses\n",
    "\n",
    "print(gpa)"
   ]
  },
  {
   "cell_type": "markdown",
   "metadata": {},
   "source": [
    "As you can see from the output, an assignment doesn't generate any visiable output. It just binds a value to a name. The experssion `total_score / number_of_courses` performs a division and the result is bound to the name `gpa`. It has the correct value of `3.5`.\n",
    "\n",
    "The variable name must be on the left hand side (LHS). The right hand side (RHS) can be a value, an expression or another variable. The following statement is invalid Python code and generates `SyntaxError` when you run it."
   ]
  },
  {
   "cell_type": "code",
   "execution_count": 4,
   "metadata": {},
   "outputs": [
    {
     "output_type": "error",
     "ename": "SyntaxError",
     "evalue": "cannot assign to literal (<ipython-input-4-d46a11187eb6>, line 1)",
     "traceback": [
      "\u001b[0;36m  File \u001b[0;32m\"<ipython-input-4-d46a11187eb6>\"\u001b[0;36m, line \u001b[0;32m1\u001b[0m\n\u001b[0;31m    3.5 = gpa\u001b[0m\n\u001b[0m    ^\u001b[0m\n\u001b[0;31mSyntaxError\u001b[0m\u001b[0;31m:\u001b[0m cannot assign to literal\n"
     ]
    }
   ],
   "source": [
    "3.5 = gpa"
   ]
  },
  {
   "cell_type": "markdown",
   "metadata": {},
   "source": [
    "You cannot use a variable without defining it using an assignment statemetn first. You will get a `NameError` and your code crashes at that line."
   ]
  },
  {
   "cell_type": "code",
   "execution_count": 5,
   "metadata": {},
   "outputs": [
    {
     "output_type": "error",
     "ename": "NameError",
     "evalue": "name 'x' is not defined",
     "traceback": [
      "\u001b[0;31m---------------------------------------------------------------------------\u001b[0m",
      "\u001b[0;31mNameError\u001b[0m                                 Traceback (most recent call last)",
      "\u001b[0;32m<ipython-input-5-eaf7b6991020>\u001b[0m in \u001b[0;36m<module>\u001b[0;34m\u001b[0m\n\u001b[0;32m----> 1\u001b[0;31m \u001b[0mx\u001b[0m \u001b[0;34m+\u001b[0m \u001b[0;36m1\u001b[0m\u001b[0;34m\u001b[0m\u001b[0;34m\u001b[0m\u001b[0m\n\u001b[0m",
      "\u001b[0;31mNameError\u001b[0m: name 'x' is not defined"
     ]
    }
   ],
   "source": [
    "x + 1"
   ]
  },
  {
   "cell_type": "markdown",
   "metadata": {},
   "source": [
    "## Variable Names\n",
    "\n",
    "According to the [Two hard things blog](https://martinfowler.com/bliki/TwoHardThings.html):\n",
    ">There are only two hard things in Computer Science: cache invalidation and naming things.\n",
    ">\n",
    ">-- Phil Karlton\n",
    "\n",
    "It might be exaggerated, but naming is really one of the most important decisions in programming. You should think hard to give a variable the most meaningful name thus you and other people can understand the value behind it. \n",
    "\n",
    "Python has simple but strict rules for variable names:\n",
    "\n",
    "- A name must be started with a letter in the range of `a` through `z`, or `A` through `Z`, or an underscore character `_`.\n",
    "- The rest of the name can be any letters in the range of `a` through `z`, `A` through `Z`, 0 through 9, or an underscore character `_`.\n",
    "- The variable name is case sensitive. `score`, `scorE` and `Score` are all different names.\n",
    "- Python keywords such as `if`, `for` cannot be used as variable names because they have special meaning.\n",
    "\n",
    "`x`, `x9`, `_proxy`, `__all__`, `i18n`, `ohmygod`, `course_name` are all valid names because they obey the naming rules. However, `9x`, `42`, `@name`, `My**key`, `price$` are invalid names because they don't start with a valid letter or have invalid letters in the name.\n",
    "\n",
    "## Multi-word Names\n",
    "\n",
    "As you can see, names such as `studentname`, `roomnumber` are clumsy to read and write. Programmers use special terms to describe the multi-word naming mechanism:\n",
    "\n",
    "- `snake_case`: use underscore to seperate each lower case word. It is recommended for naming multi-word variables and source code files in Python.\n",
    "- `kebab-case`: use a dash to seperate lower case words.\n",
    "- `PascalCasing`: each word starts with an uppercase letter.\n",
    "- `camelCasing`: only the first word start with a lower case letter, others start with an upperc case letter.\n",
    "\n",
    "Python uses underscore letter `_` to seperate words in names. The naming conventions are defined in [PEP 8 -- Style Guide for Python Code](https://www.python.org/dev/peps/pep-0008/)\n",
    "\n",
    "## Magic Nubmers\n",
    "\n",
    "A number literal such as `3.1` in an operation such as `3.1 * diameter` is called a **magic number** because it is hard to know the meaning of these numbers. Python style guide recommeds constants are\n",
    "\n",
    ">  written in all capital letters with underscores separating words. Examples include MAX_OVERFLOW and TOTAL. \n",
    "\n",
    "You should aovid using number literals in your code. Whenever it appears, give it a name. For example,\n"
   ]
  },
  {
   "cell_type": "code",
   "execution_count": 6,
   "metadata": {},
   "outputs": [],
   "source": [
    "INTEREST_RATE = 0.072\n",
    "balance = 100\n",
    "interest = balance * INTEREST_RATE"
   ]
  },
  {
   "cell_type": "markdown",
   "metadata": {},
   "source": [
    "Another benefit of defining constant variables is that you only need to change one place and all its usage will be changes. For example, if the Pi value is used in many places and you define it as `PI = 3.1`. Later you want to use the value of `3.14`, you only need to change the defintion as `PI = 3.14` in one place. It is called **single point of control**.  "
   ]
  }
 ]
}