{
 "metadata": {
  "language_info": {
   "codemirror_mode": {
    "name": "ipython",
    "version": 3
   },
   "file_extension": ".py",
   "mimetype": "text/x-python",
   "name": "python",
   "nbconvert_exporter": "python",
   "pygments_lexer": "ipython3",
   "version": "3.8.5-final"
  },
  "orig_nbformat": 2,
  "kernelspec": {
   "name": "python_defaultSpec_1600746272505",
   "display_name": "Python 3.8.5 64-bit"
  }
 },
 "nbformat": 4,
 "nbformat_minor": 2,
 "cells": [
  {
   "source": [
    "# Handling Exceptions\n",
    "\n",
    "This section shows how to handle exception to recover from runtime errors.\n",
    "\n",
    "## 1 The Best Error Handling Strategy\n",
    "\n",
    "Because an exception represents a runtime error, the best error handling strategy is to avoid exceptions. If you design a program carefully, you can avoid many exceptions thus there are no need to handle them.\n",
    "\n",
    "For example, to avoid `ZeroDivisionError`, check the divisor first before a division computation. If the divisor is zero, display an error message and ask the user to correct the problem.\n",
    "\n",
    "To avoid `FileNotFoundError`, check the existence of a file before read from it. Following is a code example.\n",
    "\n",
    "\n"
   ],
   "cell_type": "markdown",
   "metadata": {}
  },
  {
   "cell_type": "code",
   "execution_count": null,
   "metadata": {
    "tags": []
   },
   "outputs": [],
   "source": [
    "import os\n",
    "\n",
    "READ_MODE = 'r'\n",
    "\n",
    "filename = input('Please type the filename: ')\n",
    "\n",
    "if os.path.isfile(filename):\n",
    "    with open(filename, READ_MODE) as file:\n",
    "        print(f'Process {filename}')\n",
    "        # process the file content here\n",
    "else:\n",
    "    print(f'{filename} is not a valid file, please check that you input the correct filename.')\n"
   ]
  },
  {
   "source": [
    "You should avoid runtime errors if possible. Sometimes it is hard to check a runtime error or to display user-friendly error message, you can use the mechanisms introduced in the following sections."
   ],
   "cell_type": "markdown",
   "metadata": {}
  },
  {
   "source": [
    "## 2 Basic `try` Statement\n",
    "\n",
    "You can use the `try` statement to handle exceptions. The basic `try` statement has a `try` clause and an `except` clause. Following is an example:\n"
   ],
   "cell_type": "markdown",
   "metadata": {}
  },
  {
   "cell_type": "code",
   "execution_count": 3,
   "metadata": {
    "tags": []
   },
   "outputs": [
    {
     "output_type": "stream",
     "name": "stdout",
     "text": "Unable to open file test.txt. Error message: [Errno 2] No such file or directory: 'test.txt'\n"
    }
   ],
   "source": [
    "FILENAME = 'test.txt'\n",
    "\n",
    "try:\n",
    "    with open(FILENAME) as file: \n",
    "        pass # process file data here\n",
    "except OSError as error:\n",
    "    print(f'Unable to open file {FILENAME}. Error message: {error}')"
   ]
  },
  {
   "source": [
    "Below the  `try:` clause, you can write statements in a code block that is protected by the caluse. If there is no exception in the try-clause code block, the except-cluase is skipped. If there is an exception raised, Python will check if the exception matches with the exception type specified in the `except ExceptionType as variable_name:` clause. If there is a match, the code block in the except-cluase will be executed. Otherwise, the exception is uncaught and Python will stop the execution and print an error message. From a user's perspective, the program crashes when there is an uncaught exception. \n",
    "\n",
    "A file cannot be opened for many reasons: not found, no permission, time out errors etc. The `OSError` can be used to catch these errors and display a user friendly message. If you don't need the error message, you can ignore the `as variable_name` in the except clause. The code will be the following:"
   ],
   "cell_type": "markdown",
   "metadata": {}
  },
  {
   "cell_type": "code",
   "execution_count": 4,
   "metadata": {
    "tags": []
   },
   "outputs": [
    {
     "output_type": "stream",
     "name": "stdout",
     "text": "Unable to open file test.txt\n"
    }
   ],
   "source": [
    "FILENAME = 'test.txt'\n",
    "\n",
    "try:\n",
    "    with open(FILENAME) as file: \n",
    "        pass # process file data here\n",
    "except OSError:\n",
    "    print(f'Unable to open file {FILENAME}')"
   ]
  },
  {
   "source": [
    "## 3 Multiple `except` Clause\n",
    "\n",
    "If the code block in a try-clause has many operations, it could raise many different exceptions. You can use multiple except-clause to catch different exceptions. "
   ],
   "cell_type": "markdown",
   "metadata": {}
  },
  {
   "cell_type": "code",
   "execution_count": 6,
   "metadata": {
    "tags": []
   },
   "outputs": [
    {
     "output_type": "stream",
     "name": "stdout",
     "text": "Value error message: invalid literal for int() with base 10: 'abc'\n"
    }
   ],
   "source": [
    "try:\n",
    "    # all statements in this block is protected\n",
    "    int(\"abc\")\n",
    "except OSError as error:\n",
    "    print(f'Unable to open file {FILENAME}. Error message: {error}')\n",
    "except ValueError as error:\n",
    "    print(f'Value error message: {error}')"
   ]
  },
  {
   "source": [
    "Agian, the `as variable_name` is optional if you don't want to access the error message."
   ],
   "cell_type": "markdown",
   "metadata": {}
  },
  {
   "source": [
    "## 4 Catch All Exceptions\n",
    "\n",
    "If you want to catch all exception, you can use `except:` without an exception type. You can use it alone or as the last of a sequence of except-clauses."
   ],
   "cell_type": "markdown",
   "metadata": {}
  },
  {
   "cell_type": "code",
   "execution_count": 10,
   "metadata": {
    "tags": []
   },
   "outputs": [
    {
     "output_type": "stream",
     "name": "stdout",
     "text": "test exceptions\nUnexpected error: <class 'ZeroDivisionError'>\n"
    }
   ],
   "source": [
    "try:\n",
    "    # all statements in this block is protected\n",
    "    print('test exceptions')\n",
    "    1 / 0 # raise an exception\n",
    "except OSError as error:\n",
    "    print(f'Unable to open file {FILENAME}. Error message: {error}')\n",
    "except ValueError as error:\n",
    "    print(f'Value error message: {error}')\n",
    "except:\n",
    "    error = sys.exc_info()[0] # to get error info\n",
    "    print(f'Unexpected error: {error}')"
   ]
  },
  {
   "source": [
    "The following code doesn't get the erro info and only has a catch-all except-cluase."
   ],
   "cell_type": "markdown",
   "metadata": {}
  },
  {
   "cell_type": "code",
   "execution_count": 11,
   "metadata": {
    "tags": []
   },
   "outputs": [
    {
     "output_type": "stream",
     "name": "stdout",
     "text": "test exceptions\nUnexpected exception, blame its developer.\n"
    }
   ],
   "source": [
    "try:\n",
    "    # all statements in this block is protected\n",
    "    print('test exceptions')\n",
    "    1 / 0 # raise an exception\n",
    "except:\n",
    "    print(f'Unexpected exception, blame its developer.')"
   ]
  },
  {
   "source": [
    "## 5 The `else` and `finally` Clause\n",
    "\n",
    "The try statement can have two optional clauses. An optional `else` cluase and an optional `finally` clause. Python executes the `else` clause code block if there is no exception raised. The `finally` clause is always executed regardless there is an exception or not. It is often used to run clean up code.\n"
   ],
   "cell_type": "markdown",
   "metadata": {}
  },
  {
   "cell_type": "code",
   "execution_count": 12,
   "metadata": {
    "tags": []
   },
   "outputs": [
    {
     "output_type": "stream",
     "name": "stdout",
     "text": "normal code, no exception.\nexecuted when there is no exception.\nalways execute the finally code block.\n"
    }
   ],
   "source": [
    "try:\n",
    "    print('normal code, no exception.')\n",
    "except:\n",
    "    print('skipped if no exception.')\n",
    "else:\n",
    "    print('executed when there is no exception.')\n",
    "finally:\n",
    "    print('always execute the finally code block.')"
   ]
  },
  {
   "source": [
    "As a beginner programmer, you just to understand the try statement and read other people's code. When you gain more experience, you will use it more. Nonetheless, the best exception handling strategy is to check the possible errors to avoid exceptions."
   ],
   "cell_type": "markdown",
   "metadata": {}
  }
 ]
}