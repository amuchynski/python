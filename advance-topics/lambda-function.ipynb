{
 "metadata": {
  "language_info": {
   "codemirror_mode": {
    "name": "ipython",
    "version": 3
   },
   "file_extension": ".py",
   "mimetype": "text/x-python",
   "name": "python",
   "nbconvert_exporter": "python",
   "pygments_lexer": "ipython3",
   "version": 3
  },
  "orig_nbformat": 2
 },
 "nbformat": 4,
 "nbformat_minor": 2,
 "cells": [
  {
   "source": [
    "# Lambda Function\n",
    "\n",
    "Lambda functions, also called [Lambda Expressions](https://docs.python.org/3/tutorial/controlflow.html#lambda-expressions), are small anonymous functions that are created with the `lambda` keyword.\n",
    "\n",
    "Many Python functions/methods can take functions as arguments, lambda functions can be used in stead of a normal function. They are used for one-time, small function definitions."
   ],
   "cell_type": "markdown",
   "metadata": {}
  },
  {
   "source": [
    "## 1 Lambda Function Syntax\n",
    "\n"
   ],
   "cell_type": "markdown",
   "metadata": {}
  }
 ]
}