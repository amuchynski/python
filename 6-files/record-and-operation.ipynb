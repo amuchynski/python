{
 "metadata": {
  "language_info": {
   "codemirror_mode": {
    "name": "ipython",
    "version": 3
   },
   "file_extension": ".py",
   "mimetype": "text/x-python",
   "name": "python",
   "nbconvert_exporter": "python",
   "pygments_lexer": "ipython3",
   "version": 3
  },
  "orig_nbformat": 2
 },
 "nbformat": 4,
 "nbformat_minor": 2,
 "cells": [
  {
   "source": [
    "# Record and Operations\n",
    "\n",
    "This section gives an exmaple of writing and reading of a text file that has multiple data elements in each line. It also covers the file deletion and renaming operations."
   ],
   "cell_type": "markdown",
   "metadata": {}
  }
 ]
}