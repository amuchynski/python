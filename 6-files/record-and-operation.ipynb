{
 "metadata": {
  "language_info": {
   "codemirror_mode": {
    "name": "ipython",
    "version": 3
   },
   "file_extension": ".py",
   "mimetype": "text/x-python",
   "name": "python",
   "nbconvert_exporter": "python",
   "pygments_lexer": "ipython3",
   "version": 3
  },
  "orig_nbformat": 2
 },
 "nbformat": 4,
 "nbformat_minor": 2,
 "cells": [
  {
   "source": [
    "# Record and Operations\n",
    "\n",
    "This section gives an exmaple of writing and reading of a text file that has multiple data elements in each line. It also covers the file deletion and renaming operations."
   ],
   "cell_type": "markdown",
   "metadata": {}
  },
  {
   "source": [
    "## 1 Records and Fields\n",
    "\n",
    "It is a convention for a text text to use `records` and `fields` to organize data.  A `record` is a complete set of data that describe an entity. A record consists a single piece or multiple pieces of data. A single piece of data is called a `field`. For example\n",
    "\n",
    "- an employee entity has `id`, `name`, `department` to describe an employee information. The `id`, `name`, `department` are fields of a record. Each record has data for each employee.\n",
    "- a student may have `name`, `score` to describe the testing score for a student. A course has mulitple records and each record represents one student. The `name`, `score` are fields of a student record.\n"
   ],
   "cell_type": "markdown",
   "metadata": {}
  },
  {
   "source": [
    "## 2 Processing Records\n",
    "\n",
    "There are many ways to process record data in a text file. Two popular options are:\n",
    "\n",
    "- a line as a record: each line represents a record. Use field delimiter to separate different files in a record.\n",
    "- a line as a field: each line represents a field. Use the number of fields to determine the record boundary. For example, for the above employee record that has three fields of `id`, `name` and `department`, three lines form a record.\n",
    "\n",
    "Most applications use the method of `a line as a record` because it is more compact and easy to process. For this method, there are many different ways to delimit the fields in a line. The two most popular methods are:\n",
    "\n",
    "- white space delimiter: it uses a white space character to seprate different fields. The white space characters include ` ` (space), `\\t` (horizontal tab), `\\n` (new line), `\\v` (vertical tab), `\\f` (feed), `\\r` (carriage return). The string method [`split()`](https://docs.python.org/3/library/stdtypes.html#str.split) can be used to split fields of a line.\n",
    "- comma separated value (CSV): this is the most common import and export format for spreadsheets and database. Python has a built-in [`csv` module](https://docs.python.org/3/library/csv.html) to process csv files.\n",
    "\n",
    "For simplicity, this document only covers the read/write operation of text files that use white space delimiter."
   ],
   "cell_type": "markdown",
   "metadata": {}
  },
  {
   "source": [
    "## 3 Writing Record\n",
    "\n"
   ],
   "cell_type": "markdown",
   "metadata": {}
  }
 ]
}