{
 "cells": [
  {
   "cell_type": "markdown",
   "metadata": {},
   "source": [
    "# Demo: Calculate the factorial"
   ]
  },
  {
   "cell_type": "code",
   "execution_count": 1,
   "metadata": {
    "tags": []
   },
   "outputs": [
    {
     "output_type": "stream",
     "name": "stdout",
     "text": "7! is 5040\n"
    }
   ],
   "source": [
    "\"\"\"Calculate the factorial of a non-negative integer\"\"\"\n",
    "number = int(input('Enter a non-negative integer: '))\n",
    "\n",
    "if number < 0:\n",
    "    print('Number must be non-negative')\n",
    "else:\n",
    "    factorial = 1\n",
    "    \n",
    "    for i in range(number, 1, -1):\n",
    "        factorial *= i\n",
    "    \n",
    "    print(f'{number}! is {factorial}')"
   ]
  }
 ],
 "metadata": {
  "kernelspec": {
   "name": "Python 3.8.5 64-bit",
   "display_name": "Python 3.8.5 64-bit",
   "metadata": {
    "interpreter": {
     "hash": "aee8b7b246df8f9039afb4144a1f6fd8d2ca17a180786b69acc140d282b71a49"
    }
   }
  },
  "language_info": {
   "codemirror_mode": {
    "name": "ipython",
    "version": 3
   },
   "file_extension": ".py",
   "mimetype": "text/x-python",
   "name": "python",
   "nbconvert_exporter": "python",
   "pygments_lexer": "ipython3",
   "version": "3.8.5-final"
  }
 },
 "nbformat": 4,
 "nbformat_minor": 2
}