{
 "metadata": {
  "language_info": {
   "codemirror_mode": {
    "name": "ipython",
    "version": 3
   },
   "file_extension": ".py",
   "mimetype": "text/x-python",
   "name": "python",
   "nbconvert_exporter": "python",
   "pygments_lexer": "ipython3",
   "version": 3
  },
  "orig_nbformat": 2
 },
 "nbformat": 4,
 "nbformat_minor": 2,
 "cells": [
  {
   "cell_type": "markdown",
   "metadata": {},
   "source": [
    "# `while` Loop\n",
    "\n",
    "This section introduces the `while` concept, `while` statement, and infinit loop. It highlighs the importance of changing conditions in the code block.\n",
    "\n",
    "## 1 The `while` Concept\n",
    "\n",
    "It it a common scenario that you repeat some actions when a certain condition is ture. You repeat \"learning\" while you don't understand a topic; you repeat \"cooking\" rice while the rice is not cooked. The following digram shows the concept.\n",
    "\n",
    "![while](images/while.jpg)"
   ]
  },
  {
   "cell_type": "markdown",
   "metadata": {},
   "source": [
    "## `while` statement\n",
    "\n",
    "As depected in the above diagram, the `while` statement has a `while` cluase and a code block. The syntax is as the following:\n",
    "\n",
    "```python\n",
    "while condition:\n",
    "    statement\n",
    "    statement\n",
    "    ...\n",
    "\n",
    "statement // after-while statement\n",
    "```\n",
    "\n",
    "When the condition is true, it repeatedly excute the statements in the code block. If the condition becomes false, it skip the code block and runs the statements below it."
   ]
  }
 ]
}