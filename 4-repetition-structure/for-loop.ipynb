{
 "metadata": {
  "language_info": {
   "codemirror_mode": {
    "name": "ipython",
    "version": 3
   },
   "file_extension": ".py",
   "mimetype": "text/x-python",
   "name": "python",
   "nbconvert_exporter": "python",
   "pygments_lexer": "ipython3",
   "version": "3.8.5-final"
  },
  "orig_nbformat": 2,
  "kernelspec": {
   "name": "python38564bita6c660d366ad41288ccc0d1156e7cceb",
   "display_name": "Python 3.8.5 64-bit"
  }
 },
 "nbformat": 4,
 "nbformat_minor": 2,
 "cells": [
  {
   "cell_type": "markdown",
   "metadata": {},
   "source": [
    "# `for` Loop\n",
    "\n",
    "This section introduct the sequence of data using `list` and `range`. The `for` loop is used to iterate a sequence of data.\n",
    "\n",
    "## A Sequence of Data\n",
    "\n",
    "When you need to process a sequence of data items, you put them into a pair of brackets like `[item1, item2, item3, ...]`. The items enclosed in the brackets are called a `list`. The following are two lists:"
   ]
  },
  {
   "cell_type": "code",
   "execution_count": 1,
   "metadata": {
    "tags": []
   },
   "outputs": [
    {
     "output_type": "stream",
     "name": "stdout",
     "text": "Alice Bob Cindy\n80 90 100\n"
    }
   ],
   "source": [
    "students = ['Alice', 'Bob', 'Cindy']\n",
    "scores = [80, 90, 100]\n",
    "\n",
    "print(students[0], students[1], students[2])\n",
    "print(scores[0], scores[1], scores[2])"
   ]
  },
  {
   "cell_type": "markdown",
   "metadata": {},
   "source": [
    "The first is a list of strings. The second is a list of numbers. Each item in the list can be accessed using its location (called `index`) in the list. The `index` starts from 0 up to the length, but no including the length. For a list of three elememts, the valid indexes are `0`, `1` and `2`."
   ]
  },
  {
   "cell_type": "markdown",
   "metadata": {},
   "source": [
    "## The `range` Function\n",
    "\n",
    "Python has a built-in function `range` that generates a sequence of numer. The function can take one, two, or three arguments. \n",
    "\n",
    "- `range(n)`: generated of sequence of integers in the range of `0` up to, but not including, the number `n`. For example, `range(3)` generates a seuqnce of `0`, `1` and `2`.\n",
    "- `range(m, n)`: generated of sequence of integers in the range of `m` up to, but not including, the number `n`. For example, `range(3, 7)` generates a sequence of `3`, `4`, `5`, and `6`.\n",
    "- `range(m, n, step)`, generated of sequence of integers in the range of `m` up to, but not including, the number `n`, the generate numbers increase at the specified step. For example, `range(3, 7, 2)` generates a sequence of `3` and `5`."
   ]
  },
  {
   "cell_type": "markdown",
   "metadata": {},
   "source": [
    "## The `for` Loop\n",
    "\n",
    "The syntax of `for` loop is as the following:\n",
    "\n",
    "```python\n",
    "for variable_name in sequence:\n",
    "   statement\n",
    "   statement\n",
    "   ...\n",
    "```\n",
    "\n",
    "Like the decision structure, the `for` loop has two parts: a `for` clause and a code block. The `for` clause gets each element from a `sequence` that is a list or a `range` function, assigns the item to an variable and execute the code block. It completes when there is no more elements in the seuqnce. Conceptually, it works as the following flow chart:\n",
    "\n",
    "![for](images/for.jpg)"
   ]
  },
  {
   "cell_type": "markdown",
   "metadata": {},
   "source": [
    "Following are two examples that print out elements in a sequence."
   ]
  },
  {
   "cell_type": "code",
   "execution_count": 2,
   "metadata": {
    "tags": []
   },
   "outputs": [
    {
     "output_type": "stream",
     "name": "stdout",
     "text": "Alice\nBob\nCindy\nAll students are printed\n\nCurent item: 3\nCurent item: 5\nCurent item: 7\nCurent item: 9\nPrinted all items\n"
    }
   ],
   "source": [
    "students = ['Alice', 'Bob', 'Cindy']\n",
    "for student in students:\n",
    "    print(student)\n",
    "print('All students are printed\\n')\n",
    "\n",
    "for item in range(3, 10, 2):\n",
    "    print(f'Curent item: {item}')\n",
    "print ('Printed all items')"
   ]
  },
  {
   "cell_type": "markdown",
   "metadata": {},
   "source": [
    "## The List Length\n",
    "\n",
    "The `len` built-in function returns the number of items in a list. "
   ]
  },
  {
   "cell_type": "code",
   "execution_count": 3,
   "metadata": {
    "tags": []
   },
   "outputs": [
    {
     "output_type": "stream",
     "name": "stdout",
     "text": "3\n"
    }
   ],
   "source": [
    "students = ['Alice', 'Bob', 'Cindy']\n",
    "print(len(students))"
   ]
  },
  {
   "cell_type": "markdown",
   "metadata": {},
   "source": [
    "The following code calculate the average of a list of intgers:"
   ]
  },
  {
   "cell_type": "code",
   "execution_count": 8,
   "metadata": {
    "tags": []
   },
   "outputs": [
    {
     "output_type": "stream",
     "name": "stdout",
     "text": "The average score is  79.71\n"
    }
   ],
   "source": [
    "scores = [80, 90, 100, 60, 77, 59, 92]\n",
    "total = 0\n",
    "\n",
    "for score in scores:\n",
    "    total += score\n",
    "\n",
    "average = total / len(scores)\n",
    "print(f'The average score is {average: .2f}')"
   ]
  },
  {
   "cell_type": "markdown",
   "metadata": {},
   "source": [
    "## The Index Idiom\n",
    "\n",
    "You can compose the len and the range functions to generate a sequence of the index numbers for a list. For the above students list, the composed function range(len(students)) generates a sequence of 0, 1 adn 2.\n",
    "\n",
    "Actually, it is an idiom in Python to use the composed function to access both the item and its index in a list. Following is an example to display students and there places in the list. For a typical business user, the index should starts from 1, not 0.\n"
   ]
  },
  {
   "cell_type": "code",
   "execution_count": 4,
   "metadata": {
    "tags": []
   },
   "outputs": [
    {
     "output_type": "stream",
     "name": "stdout",
     "text": "1 Alice\n2 Bob\n3 Cindy\n"
    }
   ],
   "source": [
    "students = ['Alice', 'Bob', 'Cindy']\n",
    "\n",
    "for index in range(len(students)):\n",
    "    print(f'{index + 1} {students[index]}')"
   ]
  },
  {
   "cell_type": "markdown",
   "metadata": {},
   "source": [
    "Using f-string, you can format the output as the following:"
   ]
  },
  {
   "cell_type": "code",
   "execution_count": 5,
   "metadata": {
    "tags": []
   },
   "outputs": [
    {
     "output_type": "stream",
     "name": "stdout",
     "text": "Place                 Name\n----- --------------------\n    1                Alice\n    2                  Bob\n    3                Cindy\n"
    }
   ],
   "source": [
    "# It is a good idea to give a constant a good name\n",
    "PLACE_WIDTH = 5\n",
    "NAME_WIDTH = 20\n",
    "\n",
    "students = ['Alice', 'Bob', 'Cindy']\n",
    "\n",
    "# the format modifier can use variables too !!!\n",
    "print(f'{\"Place\": >{PLACE_WIDTH}} {\"Name\": >{NAME_WIDTH}}')\n",
    "\n",
    "# Python support * for string\n",
    "print('-' * PLACE_WIDTH, '-' * NAME_WIDTH)\n",
    "for index in range(len(students)):\n",
    "    print(f'{index + 1: >5} {students[index]: >20}')"
   ]
  },
  {
   "cell_type": "markdown",
   "metadata": {},
   "source": []
  }
 ]
}