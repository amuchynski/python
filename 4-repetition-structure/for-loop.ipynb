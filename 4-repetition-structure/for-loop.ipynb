{
 "metadata": {
  "language_info": {
   "codemirror_mode": {
    "name": "ipython",
    "version": 3
   },
   "file_extension": ".py",
   "mimetype": "text/x-python",
   "name": "python",
   "nbconvert_exporter": "python",
   "pygments_lexer": "ipython3",
   "version": 3
  },
  "orig_nbformat": 2
 },
 "nbformat": 4,
 "nbformat_minor": 2,
 "cells": [
  {
   "cell_type": "markdown",
   "metadata": {},
   "source": [
    "# `for` Loop\n",
    "\n",
    "This section introduct the sequence of data using `list` and `range`. The `for` loop is used to iterate a sequence of data.\n",
    "\n",
    "## A Sequence of Data\n",
    "\n",
    "When you need to process a sequence of data items, you put them into a pair of brackets like `[item1, item2, item3, ...]`. The items enclosed in the brackets are called a `list`. The following are two lists:"
   ]
  },
  {
   "cell_type": "code",
   "execution_count": null,
   "metadata": {},
   "outputs": [],
   "source": [
    "students = ['Alice', 'Bob', 'Cindy']\n",
    "scores = [80, 90, 100]"
   ]
  },
  {
   "cell_type": "markdown",
   "metadata": {},
   "source": [
    "The first is a list of strings. The second is a list of numbers."
   ]
  },
  {
   "cell_type": "markdown",
   "metadata": {},
   "source": [
    "## The `range` Function"
   ]
  }
 ]
}