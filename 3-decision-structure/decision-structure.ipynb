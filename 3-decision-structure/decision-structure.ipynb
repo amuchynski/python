{
 "metadata": {
  "language_info": {
   "codemirror_mode": {
    "name": "ipython",
    "version": 3
   },
   "file_extension": ".py",
   "mimetype": "text/x-python",
   "name": "python",
   "nbconvert_exporter": "python",
   "pygments_lexer": "ipython3",
   "version": "3.8.5-final"
  },
  "orig_nbformat": 2,
  "kernelspec": {
   "name": "python38564bita6c660d366ad41288ccc0d1156e7cceb",
   "display_name": "Python 3.8.5 64-bit"
  }
 },
 "nbformat": 4,
 "nbformat_minor": 2,
 "cells": [
  {
   "cell_type": "markdown",
   "metadata": {},
   "source": [
    "# Decision Structure\n",
    "\n",
    "This section introduces the decision structure of `if`, `else` and `elif`. It also covers the important concept of code block."
   ]
  },
  {
   "cell_type": "markdown",
   "metadata": {},
   "source": [
    "## 1 The `if` Statement\n",
    "\n",
    "It is common that you want to take some actions if a certain condition is true. In Python, it is coded in an `if` statement. At a conceptual level, you can think that an `if` statement as the following digram:\n",
    "\n",
    "![if statement](images/if-statement.png)\n",
    "\n"
   ]
  },
  {
   "cell_type": "markdown",
   "metadata": {},
   "source": [
    "The syntax for an `if statement` is as the following:\n",
    "\n",
    "```python\n",
    "if condition:\n",
    "    statement\n",
    "    statement\n",
    "    etc.\n",
    "```\n",
    "\n",
    "The line `if condition:` is called an `if clause`. One or multiple statements below it, are grouped together and is called a `code block` or a `code suite`. All statments in a code block have the same level of indentation, i.e., they have the same number of leading spaces. Python style guide suggests using 4-space characters to indent a code block from its `if clause`.\n",
    "\n",
    "When Python runs an `if` statement, it evaluates the condition -- a boolean expression. If the boolean expression is `True`, it runs the code block following it. If the expression is false, it skips the code block following it. For example, "
   ]
  },
  {
   "cell_type": "code",
   "execution_count": 3,
   "metadata": {
    "tags": []
   },
   "outputs": [
    {
     "output_type": "stream",
     "name": "stdout",
     "text": "Double of input 0 is 0\n"
    }
   ],
   "source": [
    "x = int(input(\"Please enter an integer: \"))\n",
    "if x < 0: \n",
    "    print(f'Negative input {x} changes to zero')\n",
    "    x = 0\n",
    "\n",
    "print(f'Double of input {x} is {x * 2}')"
   ]
  },
  {
   "cell_type": "markdown",
   "metadata": {},
   "source": [
    "In the above code. All statements in the code block of the `if x < 0: ` clause are only executed when the input integer is less than `0`."
   ]
  },
  {
   "cell_type": "markdown",
   "metadata": {},
   "source": [
    "## 2 Simple Statement and Compound Statement\n",
    "So far you have learned that Python interpreter runs code sequentially, statements are exectued in the order of their location in a script file. The assignment statements and function calls such as print('hi') are called `simple statements` because they have a single statment and can be written in a single line.\n",
    "\n",
    "if statement and other control statements are `compound statements` because they have multiple statements and usually span multiple lines. The if statement has at least one if clause and a code block that has at least one statement."
   ]
  },
  {
   "cell_type": "markdown",
   "metadata": {},
   "source": [
    "## 3 The `if-else` statement\n",
    "\n",
    "It is common for people to take some actions if a condition is true and take some other actions if the same condition is false. For example, in a Pass/Fail class, if a student's score is greater than or equal to 60 point, the grade is `Pass`, otherwise, the grade is `Fail`. The two-branch decsion can be depicted using the following flow chart:\n",
    "\n",
    "![if-else-statement](images/if-else-statement.jpg)\n",
    "\n",
    "You can code the two-branch decision using the `if-else` statement that has the following syntax:\n",
    "\n",
    "```python\n",
    "if condition:\n",
    "    statement\n",
    "    statement\n",
    "    ...\n",
    "else:\n",
    "   statement\n",
    "   statement\n",
    "   ...\n",
    "```\n",
    "\n",
    "The `if-else` statement has two clauses: an `if` clause and a an `else` clause. There is a code block for the `if` clause and a code block for `else` clause. "
   ]
  },
  {
   "cell_type": "code",
   "execution_count": 6,
   "metadata": {
    "tags": []
   },
   "outputs": [
    {
     "output_type": "stream",
     "name": "stdout",
     "text": "Score of 42 is a fail score.\nYour grade is Fail\n"
    }
   ],
   "source": [
    "PASS_SCORE = 60\n",
    "score = int(input(\"Please enter your score points: \"))\n",
    "if score >= PASS_SCORE: \n",
    "    print(f'Score of {score} is a pass score.')\n",
    "    grade = 'Pass'\n",
    "else:\n",
    "    print(f'Score of {score} is a fail score.')\n",
    "    grade = 'Fail'\n",
    "\n",
    "print(f'Your grade is {grade}')"
   ]
  },
  {
   "cell_type": "markdown",
   "metadata": {},
   "source": [
    "In the above code, we define a constant for the pass score. Otherwise, the nubmer `60` is called a magic number because its meaning is not clear. The messages and the grade value are depend on whether is the input score is greater than or equal to 60 or not. The last `print` function call is always executed because it is not a code block of the `if` statement. It is a statement that has the same indentation level as the `if` clause.\n",
    "\n",
    "You can change the condition and change the code blocks to have the same processing logic. The following code is exactly the same as the above code except that the extra `not` operator might be more difficult for people to understand than the above code. It is better to use `score < PASS_SCORE` boolean expression."
   ]
  },
  {
   "cell_type": "code",
   "execution_count": null,
   "metadata": {
    "tags": []
   },
   "outputs": [],
   "source": [
    "PASS_SCORE = 60\n",
    "score = int(input(\"Please enter your score: \"))\n",
    "\n",
    "if not(score >= PASS_SCORE):  # better to use score < PASS_SCORE\n",
    "    print(f'Score of {score} is a fail score.')\n",
    "    grade = 'Fail'\n",
    "else:\n",
    "    print(f'Score of {score} is a pass score.')\n",
    "    grade = 'Pass'\n",
    "\n",
    "print(f'Your grade is {grade}')"
   ]
  },
  {
   "cell_type": "markdown",
   "metadata": {},
   "source": [
    "## 4 The `if-elif-else` Statement\n",
    "\n",
    "For a course that is graded as `A`, `B`, `C`, `D` and `F`, you need more than two decision branches. You can use multiple `if-else` statement to process multiple branches as the following:"
   ]
  },
  {
   "cell_type": "code",
   "execution_count": null,
   "metadata": {
    "tags": []
   },
   "outputs": [],
   "source": [
    "A_SCORE = 90\n",
    "B_SCORE = 80\n",
    "C_SCORE = 70\n",
    "D_SCORE = 60\n",
    "\n",
    "score = int(input(\"Please enter your score: \"))\n",
    "\n",
    "if score >= A_SCORE:\n",
    "    grade = \"A\"\n",
    "else:\n",
    "    if score >= B_SCORE:\n",
    "        grade = \"B\"\n",
    "    else:\n",
    "        if score >= C_SCORE:\n",
    "            grade = \"C\"\n",
    "        else:\n",
    "            if score >= D_SCORE:\n",
    "                grade = \"D\"\n",
    "            else:\n",
    "                grade = \"F\"\n",
    "\n",
    "print(f'The grade for score {score} is {grade}')\n"
   ]
  },
  {
   "cell_type": "markdown",
   "metadata": {},
   "source": [
    "In the above code, each code block in the `else` clause is an `if-else` statement. It works correctly but many nested indentations are hard to read. The `if-elif-else` statement is used for three-or-more decision branches. The syntax is as the following: "
   ]
  },
  {
   "cell_type": "code",
   "execution_count": null,
   "metadata": {},
   "outputs": [],
   "source": [
    "if condition:\n",
    "    statement\n",
    "    ...\n",
    "elif condition:\n",
    "    statement\n",
    "    ...\n",
    "elif condition:\n",
    "    statement\n",
    "    ...\n",
    "# more elif if needed\n",
    "else:\n",
    "    statement\n",
    "    ..."
   ]
  },
  {
   "cell_type": "markdown",
   "metadata": {},
   "source": [
    "The improvement here is that the code blocks in multiple branches are in the same indentation level. It is much easier to read than the nested `if-else` style. The improved code for the letter-graded course is as the following:"
   ]
  },
  {
   "cell_type": "code",
   "execution_count": null,
   "metadata": {
    "tags": []
   },
   "outputs": [],
   "source": [
    "A_SCORE = 90\n",
    "B_SCORE = 80\n",
    "C_SCORE = 70\n",
    "D_SCORE = 60\n",
    "\n",
    "score = int(input(\"Please enter your score: \"))\n",
    "\n",
    "if score >= A_SCORE:\n",
    "    grade = \"A\"\n",
    "elif score >= B_SCORE:\n",
    "    grade = \"B\"\n",
    "elif score >= C_SCORE:\n",
    "    grade = \"C\"\n",
    "elif score >= D_SCORE:\n",
    "    grade = \"D\"\n",
    "else:\n",
    "    grade = \"F\"\n",
    "\n",
    "print(f'The grade for score {score} is {grade}')"
   ]
  }
 ]
}